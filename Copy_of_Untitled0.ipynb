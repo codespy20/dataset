{
  "cells": [
    {
      "cell_type": "code",
      "execution_count": 1,
      "metadata": {
        "colab": {
          "base_uri": "https://localhost:8080/"
        },
        "id": "Cd0iCgATe1eQ",
        "outputId": "0ce796fa-e59e-4863-de22-98a2273e63df"
      },
      "outputs": [
        {
          "output_type": "stream",
          "name": "stdout",
          "text": [
            "Requirement already satisfied: pandas in /usr/local/lib/python3.12/dist-packages (2.2.2)\n",
            "Requirement already satisfied: numpy in /usr/local/lib/python3.12/dist-packages (2.0.2)\n",
            "Requirement already satisfied: scikit-learn in /usr/local/lib/python3.12/dist-packages (1.6.1)\n",
            "Requirement already satisfied: xgboost in /usr/local/lib/python3.12/dist-packages (3.0.5)\n",
            "Requirement already satisfied: shap in /usr/local/lib/python3.12/dist-packages (0.48.0)\n",
            "Collecting country_converter\n",
            "  Downloading country_converter-1.3.1-py3-none-any.whl.metadata (25 kB)\n",
            "Requirement already satisfied: matplotlib in /usr/local/lib/python3.12/dist-packages (3.10.0)\n",
            "Requirement already satisfied: python-dateutil>=2.8.2 in /usr/local/lib/python3.12/dist-packages (from pandas) (2.9.0.post0)\n",
            "Requirement already satisfied: pytz>=2020.1 in /usr/local/lib/python3.12/dist-packages (from pandas) (2025.2)\n",
            "Requirement already satisfied: tzdata>=2022.7 in /usr/local/lib/python3.12/dist-packages (from pandas) (2025.2)\n",
            "Requirement already satisfied: scipy>=1.6.0 in /usr/local/lib/python3.12/dist-packages (from scikit-learn) (1.16.2)\n",
            "Requirement already satisfied: joblib>=1.2.0 in /usr/local/lib/python3.12/dist-packages (from scikit-learn) (1.5.2)\n",
            "Requirement already satisfied: threadpoolctl>=3.1.0 in /usr/local/lib/python3.12/dist-packages (from scikit-learn) (3.6.0)\n",
            "Requirement already satisfied: nvidia-nccl-cu12 in /usr/local/lib/python3.12/dist-packages (from xgboost) (2.27.3)\n",
            "Requirement already satisfied: tqdm>=4.27.0 in /usr/local/lib/python3.12/dist-packages (from shap) (4.67.1)\n",
            "Requirement already satisfied: packaging>20.9 in /usr/local/lib/python3.12/dist-packages (from shap) (25.0)\n",
            "Requirement already satisfied: slicer==0.0.8 in /usr/local/lib/python3.12/dist-packages (from shap) (0.0.8)\n",
            "Requirement already satisfied: numba>=0.54 in /usr/local/lib/python3.12/dist-packages (from shap) (0.60.0)\n",
            "Requirement already satisfied: cloudpickle in /usr/local/lib/python3.12/dist-packages (from shap) (3.1.1)\n",
            "Requirement already satisfied: typing-extensions in /usr/local/lib/python3.12/dist-packages (from shap) (4.15.0)\n",
            "Requirement already satisfied: contourpy>=1.0.1 in /usr/local/lib/python3.12/dist-packages (from matplotlib) (1.3.3)\n",
            "Requirement already satisfied: cycler>=0.10 in /usr/local/lib/python3.12/dist-packages (from matplotlib) (0.12.1)\n",
            "Requirement already satisfied: fonttools>=4.22.0 in /usr/local/lib/python3.12/dist-packages (from matplotlib) (4.60.0)\n",
            "Requirement already satisfied: kiwisolver>=1.3.1 in /usr/local/lib/python3.12/dist-packages (from matplotlib) (1.4.9)\n",
            "Requirement already satisfied: pillow>=8 in /usr/local/lib/python3.12/dist-packages (from matplotlib) (11.3.0)\n",
            "Requirement already satisfied: pyparsing>=2.3.1 in /usr/local/lib/python3.12/dist-packages (from matplotlib) (3.2.4)\n",
            "Requirement already satisfied: llvmlite<0.44,>=0.43.0dev0 in /usr/local/lib/python3.12/dist-packages (from numba>=0.54->shap) (0.43.0)\n",
            "Requirement already satisfied: six>=1.5 in /usr/local/lib/python3.12/dist-packages (from python-dateutil>=2.8.2->pandas) (1.17.0)\n",
            "Downloading country_converter-1.3.1-py3-none-any.whl (47 kB)\n",
            "\u001b[2K   \u001b[90m━━━━━━━━━━━━━━━━━━━━━━━━━━━━━━━━━━━━━━━━\u001b[0m \u001b[32m47.3/47.3 kB\u001b[0m \u001b[31m2.8 MB/s\u001b[0m eta \u001b[36m0:00:00\u001b[0m\n",
            "\u001b[?25hInstalling collected packages: country_converter\n",
            "Successfully installed country_converter-1.3.1\n"
          ]
        }
      ],
      "source": [
        "!pip install pandas numpy scikit-learn xgboost shap country_converter matplotlib"
      ]
    },
    {
      "cell_type": "code",
      "execution_count": 2,
      "metadata": {
        "id": "IFBSoBartgfP"
      },
      "outputs": [],
      "source": [
        "# file: model_subsidy_pm25.py\n",
        "import pandas as pd\n",
        "import numpy as np\n",
        "from sklearn.model_selection import train_test_split\n",
        "from sklearn.metrics import mean_squared_error, mean_absolute_error, r2_score\n",
        "import matplotlib.pyplot as plt\n",
        "import os"
      ]
    },
    {
      "cell_type": "code",
      "source": [
        "from google.colab import files\n",
        "uploaded = files.upload()"
      ],
      "metadata": {
        "colab": {
          "base_uri": "https://localhost:8080/",
          "height": 109
        },
        "id": "0jv8SwvRxFQH",
        "outputId": "5e0d2a33-2c05-4573-cfd1-e94b78f932fd"
      },
      "execution_count": 3,
      "outputs": [
        {
          "output_type": "display_data",
          "data": {
            "text/plain": [
              "<IPython.core.display.HTML object>"
            ],
            "text/html": [
              "\n",
              "     <input type=\"file\" id=\"files-60ddcf58-733c-4a08-b9eb-3d20f0d66333\" name=\"files[]\" multiple disabled\n",
              "        style=\"border:none\" />\n",
              "     <output id=\"result-60ddcf58-733c-4a08-b9eb-3d20f0d66333\">\n",
              "      Upload widget is only available when the cell has been executed in the\n",
              "      current browser session. Please rerun this cell to enable.\n",
              "      </output>\n",
              "      <script>// Copyright 2017 Google LLC\n",
              "//\n",
              "// Licensed under the Apache License, Version 2.0 (the \"License\");\n",
              "// you may not use this file except in compliance with the License.\n",
              "// You may obtain a copy of the License at\n",
              "//\n",
              "//      http://www.apache.org/licenses/LICENSE-2.0\n",
              "//\n",
              "// Unless required by applicable law or agreed to in writing, software\n",
              "// distributed under the License is distributed on an \"AS IS\" BASIS,\n",
              "// WITHOUT WARRANTIES OR CONDITIONS OF ANY KIND, either express or implied.\n",
              "// See the License for the specific language governing permissions and\n",
              "// limitations under the License.\n",
              "\n",
              "/**\n",
              " * @fileoverview Helpers for google.colab Python module.\n",
              " */\n",
              "(function(scope) {\n",
              "function span(text, styleAttributes = {}) {\n",
              "  const element = document.createElement('span');\n",
              "  element.textContent = text;\n",
              "  for (const key of Object.keys(styleAttributes)) {\n",
              "    element.style[key] = styleAttributes[key];\n",
              "  }\n",
              "  return element;\n",
              "}\n",
              "\n",
              "// Max number of bytes which will be uploaded at a time.\n",
              "const MAX_PAYLOAD_SIZE = 100 * 1024;\n",
              "\n",
              "function _uploadFiles(inputId, outputId) {\n",
              "  const steps = uploadFilesStep(inputId, outputId);\n",
              "  const outputElement = document.getElementById(outputId);\n",
              "  // Cache steps on the outputElement to make it available for the next call\n",
              "  // to uploadFilesContinue from Python.\n",
              "  outputElement.steps = steps;\n",
              "\n",
              "  return _uploadFilesContinue(outputId);\n",
              "}\n",
              "\n",
              "// This is roughly an async generator (not supported in the browser yet),\n",
              "// where there are multiple asynchronous steps and the Python side is going\n",
              "// to poll for completion of each step.\n",
              "// This uses a Promise to block the python side on completion of each step,\n",
              "// then passes the result of the previous step as the input to the next step.\n",
              "function _uploadFilesContinue(outputId) {\n",
              "  const outputElement = document.getElementById(outputId);\n",
              "  const steps = outputElement.steps;\n",
              "\n",
              "  const next = steps.next(outputElement.lastPromiseValue);\n",
              "  return Promise.resolve(next.value.promise).then((value) => {\n",
              "    // Cache the last promise value to make it available to the next\n",
              "    // step of the generator.\n",
              "    outputElement.lastPromiseValue = value;\n",
              "    return next.value.response;\n",
              "  });\n",
              "}\n",
              "\n",
              "/**\n",
              " * Generator function which is called between each async step of the upload\n",
              " * process.\n",
              " * @param {string} inputId Element ID of the input file picker element.\n",
              " * @param {string} outputId Element ID of the output display.\n",
              " * @return {!Iterable<!Object>} Iterable of next steps.\n",
              " */\n",
              "function* uploadFilesStep(inputId, outputId) {\n",
              "  const inputElement = document.getElementById(inputId);\n",
              "  inputElement.disabled = false;\n",
              "\n",
              "  const outputElement = document.getElementById(outputId);\n",
              "  outputElement.innerHTML = '';\n",
              "\n",
              "  const pickedPromise = new Promise((resolve) => {\n",
              "    inputElement.addEventListener('change', (e) => {\n",
              "      resolve(e.target.files);\n",
              "    });\n",
              "  });\n",
              "\n",
              "  const cancel = document.createElement('button');\n",
              "  inputElement.parentElement.appendChild(cancel);\n",
              "  cancel.textContent = 'Cancel upload';\n",
              "  const cancelPromise = new Promise((resolve) => {\n",
              "    cancel.onclick = () => {\n",
              "      resolve(null);\n",
              "    };\n",
              "  });\n",
              "\n",
              "  // Wait for the user to pick the files.\n",
              "  const files = yield {\n",
              "    promise: Promise.race([pickedPromise, cancelPromise]),\n",
              "    response: {\n",
              "      action: 'starting',\n",
              "    }\n",
              "  };\n",
              "\n",
              "  cancel.remove();\n",
              "\n",
              "  // Disable the input element since further picks are not allowed.\n",
              "  inputElement.disabled = true;\n",
              "\n",
              "  if (!files) {\n",
              "    return {\n",
              "      response: {\n",
              "        action: 'complete',\n",
              "      }\n",
              "    };\n",
              "  }\n",
              "\n",
              "  for (const file of files) {\n",
              "    const li = document.createElement('li');\n",
              "    li.append(span(file.name, {fontWeight: 'bold'}));\n",
              "    li.append(span(\n",
              "        `(${file.type || 'n/a'}) - ${file.size} bytes, ` +\n",
              "        `last modified: ${\n",
              "            file.lastModifiedDate ? file.lastModifiedDate.toLocaleDateString() :\n",
              "                                    'n/a'} - `));\n",
              "    const percent = span('0% done');\n",
              "    li.appendChild(percent);\n",
              "\n",
              "    outputElement.appendChild(li);\n",
              "\n",
              "    const fileDataPromise = new Promise((resolve) => {\n",
              "      const reader = new FileReader();\n",
              "      reader.onload = (e) => {\n",
              "        resolve(e.target.result);\n",
              "      };\n",
              "      reader.readAsArrayBuffer(file);\n",
              "    });\n",
              "    // Wait for the data to be ready.\n",
              "    let fileData = yield {\n",
              "      promise: fileDataPromise,\n",
              "      response: {\n",
              "        action: 'continue',\n",
              "      }\n",
              "    };\n",
              "\n",
              "    // Use a chunked sending to avoid message size limits. See b/62115660.\n",
              "    let position = 0;\n",
              "    do {\n",
              "      const length = Math.min(fileData.byteLength - position, MAX_PAYLOAD_SIZE);\n",
              "      const chunk = new Uint8Array(fileData, position, length);\n",
              "      position += length;\n",
              "\n",
              "      const base64 = btoa(String.fromCharCode.apply(null, chunk));\n",
              "      yield {\n",
              "        response: {\n",
              "          action: 'append',\n",
              "          file: file.name,\n",
              "          data: base64,\n",
              "        },\n",
              "      };\n",
              "\n",
              "      let percentDone = fileData.byteLength === 0 ?\n",
              "          100 :\n",
              "          Math.round((position / fileData.byteLength) * 100);\n",
              "      percent.textContent = `${percentDone}% done`;\n",
              "\n",
              "    } while (position < fileData.byteLength);\n",
              "  }\n",
              "\n",
              "  // All done.\n",
              "  yield {\n",
              "    response: {\n",
              "      action: 'complete',\n",
              "    }\n",
              "  };\n",
              "}\n",
              "\n",
              "scope.google = scope.google || {};\n",
              "scope.google.colab = scope.google.colab || {};\n",
              "scope.google.colab._files = {\n",
              "  _uploadFiles,\n",
              "  _uploadFilesContinue,\n",
              "};\n",
              "})(self);\n",
              "</script> "
            ]
          },
          "metadata": {}
        },
        {
          "output_type": "stream",
          "name": "stdout",
          "text": [
            "Saving data_polusi_pm2.5.csv to data_polusi_pm2.5.csv\n",
            "Saving data_subsidi_fossil_fuel.xlsx to data_subsidi_fossil_fuel.xlsx\n"
          ]
        }
      ]
    },
    {
      "cell_type": "code",
      "execution_count": 4,
      "metadata": {
        "id": "5leJ3saEtkRj"
      },
      "outputs": [],
      "source": [
        "# ---- utils ----\n",
        "def wide_to_long_years(df, id_vars=None, value_name=\"value\"):\n",
        "    \"\"\"\n",
        "    Convert table with year columns like '2010'..'2020' into long format.\n",
        "    id_vars: list of id columns to keep. If None, pandas will infer non-year columns.\n",
        "    \"\"\"\n",
        "    # detect year-like columns\n",
        "    year_cols = [c for c in df.columns if isinstance(c, str) and c.strip()[:4].isdigit()]\n",
        "    if id_vars is None:\n",
        "        id_vars = [c for c in df.columns if c not in year_cols]\n",
        "    long = df.melt(id_vars=id_vars, value_vars=year_cols, var_name=\"YearRaw\", value_name=value_name)\n",
        "    long[\"Year\"] = long[\"YearRaw\"].str.extract(r'(\\d{4})').astype(float).astype('Int64')\n",
        "    long = long.drop(columns=[\"YearRaw\"])\n",
        "    return long"
      ]
    },
    {
      "cell_type": "code",
      "execution_count": 5,
      "metadata": {
        "id": "r9KfolrXtl31"
      },
      "outputs": [],
      "source": [
        "# ---- load CSV (World Bank style metadata) ----\n",
        "csv_path = \"./data_polusi_pm2.5.csv\"\n",
        "meta_sample = pd.read_csv(csv_path, nrows=5, encoding=\"ISO-8859-1\", on_bad_lines=\"skip\", delimiter=';')"
      ]
    },
    {
      "cell_type": "code",
      "source": [
        "# cols = meta_sample.columns.tolist()\n",
        "# year_cols = [c for c in cols if isinstance(c, str) and c.strip()[:4].isdigit()]\n",
        "# usecols = [\"Country Name\",\"Country Code\",\"Series Name\",\"Series Code\"] + year_cols\n",
        "# meta = pd.read_csv(csv_path, usecols=usecols, encoding=\"ISO-8859-1\", on_bad_lines=\"skip\", delimiter=';', skiprows=[1])\n",
        "\n",
        "# Read the first few rows to inspect the file structure\n",
        "# import csv\n",
        "# with open(csv_path, 'r', encoding=\"ISO-8859-1\") as f:\n",
        "#     reader = csv.reader(f, delimiter=';')\n",
        "#     for i, row in enumerate(reader):\n",
        "#         print(f\"Row {i}: {row}\")\n",
        "#         if i > 5: # print first 6 rows\n",
        "#             break\n",
        "\n",
        "# Load the data correctly by skipping the metadata row and using the second row as header\n",
        "meta = pd.read_csv(csv_path, encoding=\"ISO-8859-1\", on_bad_lines=\"skip\", delimiter=';', skiprows=1, header=0)\n",
        "print(meta.columns)"
      ],
      "metadata": {
        "id": "SZkf1cASZoLD",
        "colab": {
          "base_uri": "https://localhost:8080/"
        },
        "outputId": "f24d3fc9-b1b0-4132-84d8-b7fe489f7971"
      },
      "execution_count": 6,
      "outputs": [
        {
          "output_type": "stream",
          "name": "stdout",
          "text": [
            "Index(['Afghanistan,AFG,\"PM2.5 air pollution, mean annual exposure (micrograms per cubic meter)\",EN.ATM.PM25.MC.M3,49.6793770289443,61.8170559083924,70.9223165078033,73.1318159038053,77.1437275538632,73.4908176326415,72.7659101386992,65.8623470043896,67.2271774798558,58.3308722306744,46.0870936659706'], dtype='object')\n"
          ]
        }
      ]
    },
    {
      "cell_type": "code",
      "execution_count": 7,
      "metadata": {
        "id": "Es0SIwz3tnUb",
        "colab": {
          "base_uri": "https://localhost:8080/",
          "height": 547
        },
        "outputId": "9026ceeb-35d7-4fc8-f0bf-ce543b9d934f"
      },
      "outputs": [
        {
          "output_type": "error",
          "ename": "KeyError",
          "evalue": "'Series Name'",
          "traceback": [
            "\u001b[0;31m---------------------------------------------------------------------------\u001b[0m",
            "\u001b[0;31mKeyError\u001b[0m                                  Traceback (most recent call last)",
            "\u001b[0;32m/usr/local/lib/python3.12/dist-packages/pandas/core/indexes/base.py\u001b[0m in \u001b[0;36mget_loc\u001b[0;34m(self, key)\u001b[0m\n\u001b[1;32m   3804\u001b[0m         \u001b[0;32mtry\u001b[0m\u001b[0;34m:\u001b[0m\u001b[0;34m\u001b[0m\u001b[0;34m\u001b[0m\u001b[0m\n\u001b[0;32m-> 3805\u001b[0;31m             \u001b[0;32mreturn\u001b[0m \u001b[0mself\u001b[0m\u001b[0;34m.\u001b[0m\u001b[0m_engine\u001b[0m\u001b[0;34m.\u001b[0m\u001b[0mget_loc\u001b[0m\u001b[0;34m(\u001b[0m\u001b[0mcasted_key\u001b[0m\u001b[0;34m)\u001b[0m\u001b[0;34m\u001b[0m\u001b[0;34m\u001b[0m\u001b[0m\n\u001b[0m\u001b[1;32m   3806\u001b[0m         \u001b[0;32mexcept\u001b[0m \u001b[0mKeyError\u001b[0m \u001b[0;32mas\u001b[0m \u001b[0merr\u001b[0m\u001b[0;34m:\u001b[0m\u001b[0;34m\u001b[0m\u001b[0;34m\u001b[0m\u001b[0m\n",
            "\u001b[0;32mindex.pyx\u001b[0m in \u001b[0;36mpandas._libs.index.IndexEngine.get_loc\u001b[0;34m()\u001b[0m\n",
            "\u001b[0;32mindex.pyx\u001b[0m in \u001b[0;36mpandas._libs.index.IndexEngine.get_loc\u001b[0;34m()\u001b[0m\n",
            "\u001b[0;32mpandas/_libs/hashtable_class_helper.pxi\u001b[0m in \u001b[0;36mpandas._libs.hashtable.PyObjectHashTable.get_item\u001b[0;34m()\u001b[0m\n",
            "\u001b[0;32mpandas/_libs/hashtable_class_helper.pxi\u001b[0m in \u001b[0;36mpandas._libs.hashtable.PyObjectHashTable.get_item\u001b[0;34m()\u001b[0m\n",
            "\u001b[0;31mKeyError\u001b[0m: 'Series Name'",
            "\nThe above exception was the direct cause of the following exception:\n",
            "\u001b[0;31mKeyError\u001b[0m                                  Traceback (most recent call last)",
            "\u001b[0;32m/tmp/ipython-input-3234615668.py\u001b[0m in \u001b[0;36m<cell line: 0>\u001b[0;34m()\u001b[0m\n\u001b[1;32m      1\u001b[0m \u001b[0;31m# filter PM2.5 series rows\u001b[0m\u001b[0;34m\u001b[0m\u001b[0;34m\u001b[0m\u001b[0m\n\u001b[0;32m----> 2\u001b[0;31m \u001b[0mpm25_df\u001b[0m \u001b[0;34m=\u001b[0m \u001b[0mmeta\u001b[0m\u001b[0;34m[\u001b[0m\u001b[0mmeta\u001b[0m\u001b[0;34m[\u001b[0m\u001b[0;34m\"Series Name\"\u001b[0m\u001b[0;34m]\u001b[0m\u001b[0;34m.\u001b[0m\u001b[0mstr\u001b[0m\u001b[0;34m.\u001b[0m\u001b[0mcontains\u001b[0m\u001b[0;34m(\u001b[0m\u001b[0;34m\"PM2.5\"\u001b[0m\u001b[0;34m,\u001b[0m \u001b[0mcase\u001b[0m\u001b[0;34m=\u001b[0m\u001b[0;32mFalse\u001b[0m\u001b[0;34m,\u001b[0m \u001b[0mna\u001b[0m\u001b[0;34m=\u001b[0m\u001b[0;32mFalse\u001b[0m\u001b[0;34m)\u001b[0m\u001b[0;34m]\u001b[0m\u001b[0;34m.\u001b[0m\u001b[0mcopy\u001b[0m\u001b[0;34m(\u001b[0m\u001b[0;34m)\u001b[0m\u001b[0;34m\u001b[0m\u001b[0;34m\u001b[0m\u001b[0m\n\u001b[0m\u001b[1;32m      3\u001b[0m \u001b[0mpm25_long\u001b[0m \u001b[0;34m=\u001b[0m \u001b[0mwide_to_long_years\u001b[0m\u001b[0;34m(\u001b[0m\u001b[0mpm25_df\u001b[0m\u001b[0;34m,\u001b[0m \u001b[0mid_vars\u001b[0m\u001b[0;34m=\u001b[0m\u001b[0;34m[\u001b[0m\u001b[0;34m\"Country Name\"\u001b[0m\u001b[0;34m,\u001b[0m\u001b[0;34m\"Country Code\"\u001b[0m\u001b[0;34m,\u001b[0m\u001b[0;34m\"Series Name\"\u001b[0m\u001b[0;34m,\u001b[0m\u001b[0;34m\"Series Code\"\u001b[0m\u001b[0;34m]\u001b[0m\u001b[0;34m,\u001b[0m \u001b[0mvalue_name\u001b[0m\u001b[0;34m=\u001b[0m\u001b[0;34m\"PM25_value\"\u001b[0m\u001b[0;34m)\u001b[0m\u001b[0;34m\u001b[0m\u001b[0;34m\u001b[0m\u001b[0m\n\u001b[1;32m      4\u001b[0m \u001b[0mpm25_long\u001b[0m \u001b[0;34m=\u001b[0m \u001b[0mpm25_long\u001b[0m\u001b[0;34m.\u001b[0m\u001b[0mrename\u001b[0m\u001b[0;34m(\u001b[0m\u001b[0mcolumns\u001b[0m\u001b[0;34m=\u001b[0m\u001b[0;34m{\u001b[0m\u001b[0;34m\"Country Name\"\u001b[0m\u001b[0;34m:\u001b[0m\u001b[0;34m\"Country\"\u001b[0m\u001b[0;34m,\u001b[0m\u001b[0;34m\"Country Code\"\u001b[0m\u001b[0;34m:\u001b[0m\u001b[0;34m\"CountryCode\"\u001b[0m\u001b[0;34m}\u001b[0m\u001b[0;34m)\u001b[0m\u001b[0;34m\u001b[0m\u001b[0;34m\u001b[0m\u001b[0m\n\u001b[1;32m      5\u001b[0m \u001b[0mpm25_long\u001b[0m\u001b[0;34m[\u001b[0m\u001b[0;34m\"PM25_value\"\u001b[0m\u001b[0;34m]\u001b[0m \u001b[0;34m=\u001b[0m \u001b[0mpd\u001b[0m\u001b[0;34m.\u001b[0m\u001b[0mto_numeric\u001b[0m\u001b[0;34m(\u001b[0m\u001b[0mpm25_long\u001b[0m\u001b[0;34m[\u001b[0m\u001b[0;34m\"PM25_value\"\u001b[0m\u001b[0;34m]\u001b[0m\u001b[0;34m,\u001b[0m \u001b[0merrors\u001b[0m\u001b[0;34m=\u001b[0m\u001b[0;34m\"coerce\"\u001b[0m\u001b[0;34m)\u001b[0m\u001b[0;34m\u001b[0m\u001b[0;34m\u001b[0m\u001b[0m\n",
            "\u001b[0;32m/usr/local/lib/python3.12/dist-packages/pandas/core/frame.py\u001b[0m in \u001b[0;36m__getitem__\u001b[0;34m(self, key)\u001b[0m\n\u001b[1;32m   4100\u001b[0m             \u001b[0;32mif\u001b[0m \u001b[0mself\u001b[0m\u001b[0;34m.\u001b[0m\u001b[0mcolumns\u001b[0m\u001b[0;34m.\u001b[0m\u001b[0mnlevels\u001b[0m \u001b[0;34m>\u001b[0m \u001b[0;36m1\u001b[0m\u001b[0;34m:\u001b[0m\u001b[0;34m\u001b[0m\u001b[0;34m\u001b[0m\u001b[0m\n\u001b[1;32m   4101\u001b[0m                 \u001b[0;32mreturn\u001b[0m \u001b[0mself\u001b[0m\u001b[0;34m.\u001b[0m\u001b[0m_getitem_multilevel\u001b[0m\u001b[0;34m(\u001b[0m\u001b[0mkey\u001b[0m\u001b[0;34m)\u001b[0m\u001b[0;34m\u001b[0m\u001b[0;34m\u001b[0m\u001b[0m\n\u001b[0;32m-> 4102\u001b[0;31m             \u001b[0mindexer\u001b[0m \u001b[0;34m=\u001b[0m \u001b[0mself\u001b[0m\u001b[0;34m.\u001b[0m\u001b[0mcolumns\u001b[0m\u001b[0;34m.\u001b[0m\u001b[0mget_loc\u001b[0m\u001b[0;34m(\u001b[0m\u001b[0mkey\u001b[0m\u001b[0;34m)\u001b[0m\u001b[0;34m\u001b[0m\u001b[0;34m\u001b[0m\u001b[0m\n\u001b[0m\u001b[1;32m   4103\u001b[0m             \u001b[0;32mif\u001b[0m \u001b[0mis_integer\u001b[0m\u001b[0;34m(\u001b[0m\u001b[0mindexer\u001b[0m\u001b[0;34m)\u001b[0m\u001b[0;34m:\u001b[0m\u001b[0;34m\u001b[0m\u001b[0;34m\u001b[0m\u001b[0m\n\u001b[1;32m   4104\u001b[0m                 \u001b[0mindexer\u001b[0m \u001b[0;34m=\u001b[0m \u001b[0;34m[\u001b[0m\u001b[0mindexer\u001b[0m\u001b[0;34m]\u001b[0m\u001b[0;34m\u001b[0m\u001b[0;34m\u001b[0m\u001b[0m\n",
            "\u001b[0;32m/usr/local/lib/python3.12/dist-packages/pandas/core/indexes/base.py\u001b[0m in \u001b[0;36mget_loc\u001b[0;34m(self, key)\u001b[0m\n\u001b[1;32m   3810\u001b[0m             ):\n\u001b[1;32m   3811\u001b[0m                 \u001b[0;32mraise\u001b[0m \u001b[0mInvalidIndexError\u001b[0m\u001b[0;34m(\u001b[0m\u001b[0mkey\u001b[0m\u001b[0;34m)\u001b[0m\u001b[0;34m\u001b[0m\u001b[0;34m\u001b[0m\u001b[0m\n\u001b[0;32m-> 3812\u001b[0;31m             \u001b[0;32mraise\u001b[0m \u001b[0mKeyError\u001b[0m\u001b[0;34m(\u001b[0m\u001b[0mkey\u001b[0m\u001b[0;34m)\u001b[0m \u001b[0;32mfrom\u001b[0m \u001b[0merr\u001b[0m\u001b[0;34m\u001b[0m\u001b[0;34m\u001b[0m\u001b[0m\n\u001b[0m\u001b[1;32m   3813\u001b[0m         \u001b[0;32mexcept\u001b[0m \u001b[0mTypeError\u001b[0m\u001b[0;34m:\u001b[0m\u001b[0;34m\u001b[0m\u001b[0;34m\u001b[0m\u001b[0m\n\u001b[1;32m   3814\u001b[0m             \u001b[0;31m# If we have a listlike key, _check_indexing_error will raise\u001b[0m\u001b[0;34m\u001b[0m\u001b[0;34m\u001b[0m\u001b[0m\n",
            "\u001b[0;31mKeyError\u001b[0m: 'Series Name'"
          ]
        }
      ],
      "source": [
        "# filter PM2.5 series rows\n",
        "pm25_df = meta[meta[\"Series Name\"].str.contains(\"PM2.5\", case=False, na=False)].copy()\n",
        "pm25_long = wide_to_long_years(pm25_df, id_vars=[\"Country Name\",\"Country Code\",\"Series Name\",\"Series Code\"], value_name=\"PM25_value\")\n",
        "pm25_long = pm25_long.rename(columns={\"Country Name\":\"Country\",\"Country Code\":\"CountryCode\"})\n",
        "pm25_long[\"PM25_value\"] = pd.to_numeric(pm25_long[\"PM25_value\"], errors=\"coerce\")\n",
        "pm25_long = pm25_long.dropna(subset=[\"PM25_value\"])\n",
        "pm25_long[\"Country_lc\"] = pm25_long[\"Country\"].str.lower().str.replace(r'\\s+',' ', regex=True).str.strip()"
      ]
    },
    {
      "cell_type": "code",
      "execution_count": null,
      "metadata": {
        "id": "tc_p6V8QtpKh"
      },
      "outputs": [],
      "source": [
        "# ---- load Excel (subsidi data) ----\n",
        "excel_path = \"./data_subsidi_fossil_fuel.xlsx\"\n",
        "xls = pd.ExcelFile(excel_path)\n",
        "# most likely sheet 'Table format'\n",
        "df_table = pd.read_excel(xls, sheet_name='Table format', dtype=str)\n",
        "# find subsidy-related rows\n",
        "mask = df_table['SeriesDescription'].str.contains('subsid|fossil|fuel', case=False, na=False)\n",
        "subs_rows = df_table[mask].copy()\n",
        "# convert to long form\n",
        "subs_long = wide_to_long_years(subs_rows, id_vars=['GeoAreaName','GeoAreaCode','SeriesDescription','Units'], value_name=\"Subsidy_value\")\n",
        "subs_long = subs_long.rename(columns={'GeoAreaName':'Country','GeoAreaCode':'CountryCode','SeriesDescription':'Series'})\n",
        "subs_long[\"Subsidy_value\"] = pd.to_numeric(subs_long[\"Subsidy_value\"], errors=\"coerce\")\n",
        "subs_long = subs_long.dropna(subset=[\"Subsidy_value\"])\n",
        "subs_long[\"Country_lc\"] = subs_long[\"Country\"].str.lower().str.replace(r'\\s+',' ', regex=True).str.strip()"
      ]
    },
    {
      "cell_type": "code",
      "execution_count": null,
      "metadata": {
        "id": "K_6-wOR3trLT"
      },
      "outputs": [],
      "source": [
        "# ---- country code normalization (optional but recommended) ----\n",
        "# If subs_long CountryCode is M49 numeric and pm25 CountryCode is ISO3, map M49->ISO3 using country_converter\n",
        "# country_converter accepts many inputs; we'll try to convert subs_long.Country (names) to ISO3 for robust merge\n",
        "conv = coco.CountryConverter()\n",
        "subs_long[\"ISO3_from_name\"] = conv.convert(names=subs_long[\"Country\"].values, to='ISO3')\n",
        "pm25_long[\"ISO3_from_name\"] = conv.convert(names=pm25_long[\"Country\"].values, to='ISO3')"
      ]
    },
    {
      "cell_type": "code",
      "execution_count": null,
      "metadata": {
        "id": "_4XljgDotsfp"
      },
      "outputs": [],
      "source": [
        "# Prefer exact ISO3 if available in either side\n",
        "subs_long['merge_key'] = subs_long[\"ISO3_from_name\"].where(subs_long[\"ISO3_from_name\"]!=\"not found\", subs_long[\"Country_lc\"])\n",
        "pm25_long['merge_key'] = pm25_long[\"ISO3_from_name\"].where(pm25_long[\"ISO3_from_name\"]!=\"not found\", pm25_long[\"Country_lc\"])\n"
      ]
    },
    {
      "cell_type": "code",
      "execution_count": null,
      "metadata": {
        "id": "VukOhgvPtvHn"
      },
      "outputs": [],
      "source": [
        "# ---- merge ----\n",
        "# Ensure merge_key is hashable (convert lists to strings)\n",
        "subs_long['merge_key'] = subs_long['merge_key'].apply(lambda x: str(x) if isinstance(x, list) else x)\n",
        "pm25_long['merge_key'] = pm25_long['merge_key'].apply(lambda x: str(x) if isinstance(x, list) else x)\n",
        "\n",
        "merged = pd.merge(subs_long, pm25_long, left_on=['merge_key','Year'], right_on=['merge_key','Year'], how='inner', suffixes=('_sub','_pm25'))\n",
        "if merged.empty:\n",
        "    # fallback: merge on lowercased country name + year\n",
        "    merged = pd.merge(subs_long, pm25_long, left_on=['Country_lc','Year'], right_on=['Country_lc','Year'], how='inner', suffixes=('_sub','_pm25'))\n",
        "\n",
        "#print(\"Merged rows:\", len(merged))\n",
        "# show sample\n",
        "print(merged[['Country_sub','CountryCode_sub','Year','Subsidy_value','PM25_value']].head(8))\n",
        "\n",
        "print(merged)"
      ]
    },
    {
      "cell_type": "code",
      "metadata": {
        "id": "70033304"
      },
      "source": [
        "# Save the merged DataFrame to a CSV file\n",
        "merged.to_csv(\"merged_subsidy_pm25.csv\", index=False)\n",
        "print(\"Merged data saved to merged_subsidy_pm25.csv\")"
      ],
      "execution_count": null,
      "outputs": []
    },
    {
      "cell_type": "code",
      "execution_count": null,
      "metadata": {
        "id": "99LwGRcXtwdB"
      },
      "outputs": [],
      "source": [
        "# ---- feature engineering ----\n",
        "df = merged.copy()\n",
        "df['Subsidy_value'] = pd.to_numeric(df['Subsidy_value'], errors='coerce')\n",
        "df = df.dropna(subset=['Subsidy_value','PM25_value'])\n",
        "# create log feature (handles zero/neg by sign)\n",
        "df['Log_Sub'] = np.log1p(df['Subsidy_value'].abs()) * np.sign(df['Subsidy_value'])\n",
        "# optionally add lag features if you want time-dependence\n",
        "df = df.sort_values(['merge_key','Year'])\n"
      ]
    },
    {
      "cell_type": "code",
      "execution_count": null,
      "metadata": {
        "id": "uKIl7PtZtxxd"
      },
      "outputs": [],
      "source": [
        "# ---- modeling: XGBoost regression (predict PM2.5) ----\n",
        "features = ['Subsidy_value','Log_Sub','Year']\n",
        "X = df[features].values\n",
        "y = df['PM25_value'].values"
      ]
    },
    {
      "cell_type": "code",
      "source": [
        "from sklearn.model_selection import train_test_split\n",
        "from sklearn.metrics import mean_squared_error, mean_absolute_error, r2_score\n",
        "import matplotlib.pyplot as plt"
      ],
      "metadata": {
        "id": "vCnngFpAImmX"
      },
      "execution_count": null,
      "outputs": []
    },
    {
      "cell_type": "code",
      "execution_count": null,
      "metadata": {
        "id": "iscI-bWytzXT"
      },
      "outputs": [],
      "source": [
        "from xgboost import XGBRegressor\n",
        "\n",
        "X_train, X_test, y_train, y_test = train_test_split(X, y, test_size=0.2, random_state=42)\n",
        "model = XGBRegressor(n_estimators=200, learning_rate=0.05, max_depth=4, random_state=42, verbosity=0)\n",
        "model.fit(X_train, y_train)\n",
        "y_pred = model.predict(X_test)"
      ]
    },
    {
      "cell_type": "code",
      "execution_count": null,
      "metadata": {
        "id": "OWxJBSK2t1RZ"
      },
      "outputs": [],
      "source": [
        "# @title\n",
        "# ---- evaluation ----\n",
        "rmse = mean_squared_error(y_test, y_pred)#, squared=False)\n",
        "mae = mean_absolute_error(y_test, y_pred)\n",
        "r2 = r2_score(y_test, y_pred)\n",
        "print(\"RMSE:\", rmse, \"MAE:\", mae, \"R2:\", r2)"
      ]
    },
    {
      "cell_type": "code",
      "execution_count": null,
      "metadata": {
        "id": "HNbCAdQYt3Tn"
      },
      "outputs": [],
      "source": [
        "# @title\n",
        "# ---- feature importance ----\n",
        "if hasattr(model, \"feature_importances_\"):\n",
        "    fi = model.feature_importances_\n",
        "    for f, imp in sorted(zip(features, fi), key=lambda x: x[1], reverse=True):\n",
        "        print(f, round(imp,4))"
      ]
    },
    {
      "cell_type": "code",
      "execution_count": null,
      "metadata": {
        "id": "a8wDGRSQt4_1"
      },
      "outputs": [],
      "source": [
        "# @title\n",
        "# ---- SHAP explainability (optional but recommended) ----\n",
        "try:\n",
        "    import shap\n",
        "    explainer = shap.Explainer(model)\n",
        "    shap_values = explainer(X_test)\n",
        "    # summary plot (requires display)\n",
        "    shap.summary_plot(shap_values, X_test, feature_names=features, show=True)\n",
        "except Exception as e:\n",
        "    print(\"SHAP not available or error:\", e)"
      ]
    },
    {
      "cell_type": "code",
      "execution_count": null,
      "metadata": {
        "id": "-NZK5oGttWXC"
      },
      "outputs": [],
      "source": [
        "# @title\n",
        "# ---- save model and sample predictions ----\n",
        "import joblib\n",
        "joblib.dump(model, \"model_subsidy_pm25.joblib\")\n",
        "df_out = df[['Country_sub','Year','Subsidy_value','PM25_value']].copy()\n",
        "df_out['Predicted_PM25'] = np.nan\n",
        "# Put predictions for test rows back (this code assumes you kept indexes aligned; adapt if needed)\n",
        "print(\"Saved model to model_subsidy_pm25.joblib. Sample rows saved to sample_predictions.csv\")\n",
        "df_out.head(10).to_csv(\"sample_predictions.csv\", index=False)\n"
      ]
    },
    {
      "cell_type": "markdown",
      "metadata": {
        "id": "1a0aff2b"
      },
      "source": [
        "## Prediction for Future Years\n",
        "Now, let's use the trained model to predict PM2.5 values for future years. We'll need to create a DataFrame with future years and estimate or assume subsidy values for those years. For simplicity, we'll assume the subsidy value remains constant at the average value from the training data for each country, but in a real scenario, you would need a method to project future subsidy values."
      ]
    },
    {
      "cell_type": "code",
      "metadata": {
        "id": "0ca984e9"
      },
      "source": [
        "# Create a DataFrame for future years (e.g., 2021-2025)\n",
        "future_years = pd.DataFrame({\n",
        "    'Year': range(2021, 2026),\n",
        "})\n",
        "\n",
        "# To make predictions for future years, we need corresponding subsidy values.\n",
        "# For demonstration purposes, let's use the average subsidy value per country from the existing data.\n",
        "# In a real application, you would need a method to forecast future subsidy values.\n",
        "avg_subsidy_per_country = df.groupby('Country_sub')['Subsidy_value'].mean().reset_index()\n",
        "\n",
        "# Create a DataFrame with all countries and future years\n",
        "from itertools import product\n",
        "future_data = pd.DataFrame(list(product(avg_subsidy_per_country['Country_sub'], future_years['Year'])), columns=['Country_sub', 'Year'])\n",
        "\n",
        "# Merge with average subsidy values\n",
        "future_data = pd.merge(future_data, avg_subsidy_per_country, on='Country_sub', how='left')\n",
        "\n",
        "# Add the Log_Sub feature for future data\n",
        "future_data['Log_Sub'] = np.log1p(future_data['Subsidy_value'].abs()) * np.sign(future_data['Subsidy_value'])\n",
        "\n",
        "# Prepare features for prediction\n",
        "X_future = future_data[features].values\n",
        "\n",
        "# Make predictions\n",
        "future_data['Predicted_PM25'] = model.predict(X_future)\n",
        "\n",
        "# Display the predictions\n",
        "print(\"\\nPredictions for Future Years:\")\n",
        "display(future_data.head())"
      ],
      "execution_count": null,
      "outputs": []
    }
  ],
  "metadata": {
    "accelerator": "GPU",
    "colab": {
      "gpuType": "T4",
      "provenance": []
    },
    "kernelspec": {
      "display_name": "Python 3",
      "name": "python3"
    },
    "language_info": {
      "name": "python"
    }
  },
  "nbformat": 4,
  "nbformat_minor": 0
}